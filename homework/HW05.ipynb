{
 "cells": [
  {
   "cell_type": "markdown",
   "id": "b2136482",
   "metadata": {},
   "source": [
    "## Question 1\n",
    "\n",
    "    Install Pipenv\n",
    "    What's the version of pipenv you installed?\n",
    "    Use --version to find out\n"
   ]
  },
  {
   "cell_type": "code",
   "execution_count": 1,
   "id": "62e814c6",
   "metadata": {},
   "outputs": [],
   "source": [
    "#!pipenv install pipenv"
   ]
  },
  {
   "cell_type": "code",
   "execution_count": 2,
   "id": "52491ed0",
   "metadata": {},
   "outputs": [
    {
     "name": "stdout",
     "output_type": "stream",
     "text": [
      "\u001b[1mpipenv\u001b[0m, version 2022.10.4\n",
      "\u001b[0m"
     ]
    }
   ],
   "source": [
    "!pipenv --version"
   ]
  },
  {
   "cell_type": "markdown",
   "id": "d0bda87f",
   "metadata": {},
   "source": [
    "## Question 2\n",
    "\n",
    "    Use Pipenv to install Scikit-Learn version 1.0.2\n",
    "    What's the first hash for scikit-learn you get in Pipfile.lock?\n",
    "\n",
    "Note: you should create an empty folder for homework and do it there."
   ]
  },
  {
   "cell_type": "code",
   "execution_count": 3,
   "id": "57059ddc",
   "metadata": {},
   "outputs": [],
   "source": [
    "#!pipenv install scikit-learn==1.0.2"
   ]
  },
  {
   "cell_type": "code",
   "execution_count": 4,
   "id": "ab07b638",
   "metadata": {},
   "outputs": [],
   "source": [
    "pipfile_lock = !cat Pipfile.lock"
   ]
  },
  {
   "cell_type": "code",
   "execution_count": 5,
   "id": "c0aac3ed",
   "metadata": {},
   "outputs": [
    {
     "data": {
      "text/plain": [
       "49545"
      ]
     },
     "execution_count": 5,
     "metadata": {},
     "output_type": "execute_result"
    }
   ],
   "source": [
    "index = str(pipfile_lock).find('scikit-learn')\n",
    "index"
   ]
  },
  {
   "cell_type": "code",
   "execution_count": 6,
   "id": "5098952e",
   "metadata": {},
   "outputs": [
    {
     "data": {
      "text/plain": [
       "'scikit-learn\": {\\', \\'            \"hashes\": [\\', \\'                \"sha256:08ef968f6b72033c16c479c966bf37ccd49b06ea91b765e1cc27afefe723920b\",\\', \\'         '"
      ]
     },
     "execution_count": 6,
     "metadata": {},
     "output_type": "execute_result"
    }
   ],
   "source": [
    "str(pipfile_lock)[index:index+150]"
   ]
  },
  {
   "cell_type": "markdown",
   "id": "4699ba80",
   "metadata": {},
   "source": [
    "## Model\n",
    "We've prepared a dictionary vectorizer and a model."
   ]
  },
  {
   "cell_type": "code",
   "execution_count": 7,
   "id": "e81fb8a7",
   "metadata": {},
   "outputs": [],
   "source": [
    "PREFIX='https://raw.githubusercontent.com/alexeygrigorev/mlbookcamp-code/master/course-zoomcamp/cohorts/2022/05-deployment/homework'"
   ]
  },
  {
   "cell_type": "code",
   "execution_count": 8,
   "id": "3fe1a473",
   "metadata": {},
   "outputs": [],
   "source": [
    "#!wget $PREFIX/model1.bin\n",
    "#!wget $PREFIX/dv.bin"
   ]
  },
  {
   "cell_type": "markdown",
   "id": "048c4752",
   "metadata": {},
   "source": [
    "## Question 3\n",
    "Let's use these models!\n",
    "\n",
    "    Write a script for loading these models with pickle\n",
    "    Score this client:\n",
    "\n",
    "{\"reports\": 0, \"share\": 0.001694, \"expenditure\": 0.12, \"owner\": \"yes\"}\n",
    "\n",
    "What's the probability that this client will get a credit card?\n",
    "\n",
    "    0.162\n",
    "    0.391\n",
    "    0.601\n",
    "    0.993\n"
   ]
  },
  {
   "cell_type": "code",
   "execution_count": 9,
   "id": "9d4a9716",
   "metadata": {},
   "outputs": [],
   "source": [
    "import pickle"
   ]
  },
  {
   "cell_type": "code",
   "execution_count": 10,
   "id": "796c887b",
   "metadata": {},
   "outputs": [],
   "source": [
    "with open('dv.bin', 'rb') as f_dv: \n",
    "    dv = pickle.load(f_dv)\n",
    "\n",
    "with open('model1.bin', 'rb') as f_model: \n",
    "    model = pickle.load(f_model)"
   ]
  },
  {
   "cell_type": "code",
   "execution_count": 11,
   "id": "a1fe0766",
   "metadata": {},
   "outputs": [],
   "source": [
    "def predict(customer, dv, model):\n",
    "    X = dv.transform([customer])\n",
    "    y_pred = model.predict_proba(X)[0, 1]\n",
    "    churn = y_pred >= 0.5\n",
    "    result = {\n",
    "        'churn_probability': round(float(y_pred),3),\n",
    "        'churn': bool(churn)\n",
    "    }\n",
    "    return result"
   ]
  },
  {
   "cell_type": "code",
   "execution_count": 12,
   "id": "aa0c4df8",
   "metadata": {},
   "outputs": [],
   "source": [
    "customer = {\n",
    "    \"reports\": 0,\n",
    "    \"share\": 0.001694,\n",
    "    \"expenditure\": 0.12,\n",
    "    \"owner\": \"yes\"\n",
    "}"
   ]
  },
  {
   "cell_type": "code",
   "execution_count": 13,
   "id": "a10b749f",
   "metadata": {},
   "outputs": [
    {
     "data": {
      "text/plain": [
       "{'churn_probability': 0.162, 'churn': False}"
      ]
     },
     "execution_count": 13,
     "metadata": {},
     "output_type": "execute_result"
    }
   ],
   "source": [
    "predict(customer, dv, model)"
   ]
  },
  {
   "cell_type": "markdown",
   "id": "6d0f5a76",
   "metadata": {},
   "source": [
    "## Question 4\n",
    "\n",
    "Now let's serve this model as a web service\n",
    "\n",
    "    Install Flask and gunicorn (or waitress, if you're on Windows)\n",
    "    Write Flask code for serving the model\n",
    "    Now score this client using requests:\n",
    "\n",
    "url = \"YOUR_URL\"\n",
    "\n",
    "client = {\"reports\": 0, \"share\": 0.245, \"expenditure\": 3.438, \"owner\": \"yes\"}\n",
    "\n",
    "requests.post(url, json=client).json()\n",
    "\n",
    "What's the probability that this client will get a credit card?\n",
    "\n",
    "    0.274\n",
    "    0.484\n",
    "    0.698\n",
    "    0.928\n"
   ]
  },
  {
   "cell_type": "code",
   "execution_count": 14,
   "id": "5fc91368",
   "metadata": {
    "scrolled": true
   },
   "outputs": [
    {
     "name": "stdout",
     "output_type": "stream",
     "text": [
      "import pickle\r\n",
      "\r\n",
      "from flask import Flask\r\n",
      "from flask import request\r\n",
      "from flask import jsonify\r\n",
      "\r\n",
      "\r\n",
      "with open('dv.bin', 'rb') as f_dv: \r\n",
      "    dv = pickle.load(f_dv)\r\n",
      "with open('model1.bin', 'rb') as f_model: \r\n",
      "    model = pickle.load(f_model)\r\n",
      "\r\n",
      "app = Flask('credit_card')\r\n",
      "\r\n",
      "@app.route('/predict', methods=['POST'])\r\n",
      "def predict():\r\n",
      "    customer = request.get_json()\r\n",
      "\r\n",
      "    X = dv.transform([customer])\r\n",
      "    y_pred = model.predict_proba(X)[0, 1]\r\n",
      "    churn = y_pred >= 0.5\r\n",
      "\r\n",
      "    result = {\r\n",
      "        'churn_probability': round(float(y_pred),3),\r\n",
      "        'churn': bool(churn)\r\n",
      "    }\r\n",
      "\r\n",
      "    return jsonify(result)\r\n",
      "\r\n",
      "\r\n",
      "if __name__ == \"__main__\":\r\n",
      "    app.run(debug=True, host='0.0.0.0', port=9696)"
     ]
    }
   ],
   "source": [
    "!cat predict.py"
   ]
  },
  {
   "cell_type": "code",
   "execution_count": 15,
   "id": "072bd88c",
   "metadata": {
    "scrolled": true
   },
   "outputs": [
    {
     "name": "stdout",
     "output_type": "stream",
     "text": [
      "import requests\r\n",
      "\r\n",
      "\r\n",
      "url = 'http://localhost:9696/predict'\r\n",
      "\r\n",
      "client = {\r\n",
      "    \"reports\": 0,\r\n",
      "    \"share\": 0.245,\r\n",
      "    \"expenditure\": 3.438,\r\n",
      "    \"owner\": \"yes\"\r\n",
      "}\r\n",
      "\r\n",
      "response = requests.post(url, json=client).json()\r\n",
      "print(response)"
     ]
    }
   ],
   "source": [
    "!cat predict_response.py"
   ]
  },
  {
   "cell_type": "code",
   "execution_count": 16,
   "id": "f0aea1ce",
   "metadata": {},
   "outputs": [
    {
     "name": "stdout",
     "output_type": "stream",
     "text": [
      "{'churn': True, 'churn_probability': 0.928}\r\n"
     ]
    }
   ],
   "source": [
    "!python predict_response.py"
   ]
  },
  {
   "cell_type": "markdown",
   "id": "72e4a6bc",
   "metadata": {},
   "source": [
    "## Docker\n",
    "\n",
    "Install Docker. We will use it for the next two questions.\n",
    "\n",
    "For these questions, we prepared a base image: svizor/zoomcamp-model:3.9.12-slim. You'll need to use it (see Question 5 for an example).\n",
    "\n",
    "This image is based on python:3.9.12-slim and has a logistic regression model (a different one) as well a dictionary vectorizer inside.\n",
    "\n",
    "https://hub.docker.com/r/svizor/zoomcamp-model"
   ]
  },
  {
   "cell_type": "code",
   "execution_count": 17,
   "id": "17d5198c",
   "metadata": {},
   "outputs": [],
   "source": [
    "#!sudo docker pull svizor/zoomcamp-model:3.9.12-slim"
   ]
  },
  {
   "cell_type": "markdown",
   "id": "9de3551a",
   "metadata": {},
   "source": [
    "## Question 5\n",
    "\n",
    "Download the base image svizor/zoomcamp-model:3.9.12-slim. You can easily make it by using docker pull command.\n",
    "\n",
    "So what's the size of this base image?\n",
    "\n",
    "-    15 Mb\n",
    "\n",
    "-    125 Mb\n",
    "\n",
    "-    275 Mb\n",
    "\n",
    "-    415 Mb\n",
    "\n",
    "You can get this information when running docker images - it'll be in the \"SIZE\" column."
   ]
  },
  {
   "cell_type": "code",
   "execution_count": 18,
   "id": "2e2a5cb1",
   "metadata": {},
   "outputs": [],
   "source": [
    "import getpass\n",
    "import os"
   ]
  },
  {
   "cell_type": "code",
   "execution_count": 19,
   "id": "675c3638",
   "metadata": {},
   "outputs": [
    {
     "name": "stdout",
     "output_type": "stream",
     "text": [
      "········\n",
      "REPOSITORY              TAG           IMAGE ID       CREATED          SIZE\n",
      "3.9.12-slim             latest        2e28d00baa09   33 minutes ago   726MB\n",
      "svizor/zoomcamp-model   3.9.12-slim   571a6fdc554b   5 days ago       125MB\n"
     ]
    },
    {
     "name": "stderr",
     "output_type": "stream",
     "text": [
      "[sudo] senha para arcangis: "
     ]
    },
    {
     "data": {
      "text/plain": [
       "0"
      ]
     },
     "execution_count": 19,
     "metadata": {},
     "output_type": "execute_result"
    }
   ],
   "source": [
    "password = getpass.getpass()\n",
    "command = \"sudo -S docker images\"\n",
    "os.system('echo %s | %s' % (password, command))"
   ]
  },
  {
   "cell_type": "markdown",
   "id": "a7926ad4",
   "metadata": {},
   "source": [
    "## Dockerfile\n",
    "\n",
    "Now create your own Dockerfile based on the image we prepared.\n",
    "\n",
    "\n",
    "Now complete it:\n",
    "\n",
    "    Install all the dependencies form the Pipenv file\n",
    "    Copy your Flask script\n",
    "    Run it with Gunicorn\n",
    "\n",
    "After that, you can build your docker image."
   ]
  },
  {
   "cell_type": "code",
   "execution_count": 20,
   "id": "5fabcf82",
   "metadata": {},
   "outputs": [
    {
     "name": "stdout",
     "output_type": "stream",
     "text": [
      "FROM svizor/zoomcamp-model:3.9.12-slim\r\n",
      "\r\n",
      "RUN pip install pipenv\r\n",
      "WORKDIR /app                                                                \r\n",
      "\r\n",
      "COPY [\"Pipfile\", \"Pipfile.lock\", \"./\"]\r\n",
      "\r\n",
      "RUN pipenv install --deploy --system\r\n",
      "\r\n",
      "COPY [\"*.py\", \"*.bin\", \"./\"]\r\n",
      "\r\n",
      "EXPOSE 9696\r\n",
      "\r\n",
      "ENTRYPOINT [\"gunicorn\", \"--bind\", \"0.0.0.0:9696\", \"predict:app\"]"
     ]
    }
   ],
   "source": [
    "!cat dockerfile"
   ]
  },
  {
   "cell_type": "code",
   "execution_count": 21,
   "id": "a73baae3",
   "metadata": {},
   "outputs": [],
   "source": [
    "#!sudo docker build -t 3.9.12-slim ."
   ]
  },
  {
   "cell_type": "markdown",
   "id": "0a1f3bfe",
   "metadata": {},
   "source": [
    "## Question 6\n",
    "\n",
    "Let's run your docker container!\n",
    "\n",
    "After running it, score this client once again.\n",
    "\n",
    "What's the probability that this client will get a credit card now?\n",
    "\n",
    "-    0.289\n",
    "-    0.502\n",
    "-    0.769\n",
    "-    0.972\n"
   ]
  },
  {
   "cell_type": "code",
   "execution_count": 22,
   "id": "4d7badfd",
   "metadata": {},
   "outputs": [],
   "source": [
    "#!sudo docker run -it -p 9696:9696 svizor/zoomcamp-model:3.9.12-slim"
   ]
  },
  {
   "cell_type": "code",
   "execution_count": 23,
   "id": "87edc6fd",
   "metadata": {},
   "outputs": [
    {
     "name": "stdout",
     "output_type": "stream",
     "text": [
      "{'churn': True, 'churn_probability': 0.928}\r\n"
     ]
    }
   ],
   "source": [
    "!python predict_response.py"
   ]
  }
 ],
 "metadata": {
  "kernelspec": {
   "display_name": "Python 3.10.4 64-bit",
   "language": "python",
   "name": "python3"
  },
  "language_info": {
   "codemirror_mode": {
    "name": "ipython",
    "version": 3
   },
   "file_extension": ".py",
   "mimetype": "text/x-python",
   "name": "python",
   "nbconvert_exporter": "python",
   "pygments_lexer": "ipython3",
   "version": "3.10.4"
  },
  "vscode": {
   "interpreter": {
    "hash": "31f2aee4e71d21fbe5cf8b01ff0e069b9275f58929596ceb00d14d90e3e16cd6"
   }
  }
 },
 "nbformat": 4,
 "nbformat_minor": 5
}
