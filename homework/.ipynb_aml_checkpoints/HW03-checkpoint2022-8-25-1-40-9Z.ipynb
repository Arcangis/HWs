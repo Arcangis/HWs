{
  "cells": [
    {
      "cell_type": "code",
      "source": [
        "import pandas as pd\n",
        "import numpy as np\n",
        "\n",
        "\n",
        "import seaborn as sn\n",
        "import matplotlib.pyplot as plt\n",
        "\n",
        "from sklearn.model_selection import train_test_split\n",
        "from sklearn.metrics import mutual_info_score\n",
        "from sklearn.feature_extraction import DictVectorizer\n",
        "from sklearn.linear_model import LogisticRegression, Ridge"
      ],
      "outputs": [],
      "execution_count": 1,
      "metadata": {
        "gather": {
          "logged": 1664069357077
        }
      },
      "id": "b4aac6bf"
    },
    {
      "cell_type": "markdown",
      "source": [
        "## Dataset"
      ],
      "metadata": {},
      "id": "ddeba63e"
    },
    {
      "cell_type": "code",
      "source": [
        "#!wget 'https://raw.githubusercontent.com/alexeygrigorev/datasets/master/housing.csv' -O '../datasets/house.csv'"
      ],
      "outputs": [],
      "execution_count": 2,
      "metadata": {
        "gather": {
          "logged": 1664069357836
        }
      },
      "id": "75e79211"
    },
    {
      "cell_type": "markdown",
      "source": [
        "## Features"
      ],
      "metadata": {},
      "id": "0a533fe3"
    },
    {
      "cell_type": "code",
      "source": [
        "house_df = pd.read_csv('../datasets/house.csv')\n",
        "house_df.head()"
      ],
      "outputs": [
        {
          "output_type": "execute_result",
          "execution_count": 3,
          "data": {
            "text/plain": "   longitude  latitude  housing_median_age  total_rooms  total_bedrooms  \\\n0    -122.23     37.88                41.0        880.0           129.0   \n1    -122.22     37.86                21.0       7099.0          1106.0   \n2    -122.24     37.85                52.0       1467.0           190.0   \n3    -122.25     37.85                52.0       1274.0           235.0   \n4    -122.25     37.85                52.0       1627.0           280.0   \n\n   population  households  median_income  median_house_value ocean_proximity  \n0       322.0       126.0         8.3252            452600.0        NEAR BAY  \n1      2401.0      1138.0         8.3014            358500.0        NEAR BAY  \n2       496.0       177.0         7.2574            352100.0        NEAR BAY  \n3       558.0       219.0         5.6431            341300.0        NEAR BAY  \n4       565.0       259.0         3.8462            342200.0        NEAR BAY  ",
            "text/html": "<div>\n<style scoped>\n    .dataframe tbody tr th:only-of-type {\n        vertical-align: middle;\n    }\n\n    .dataframe tbody tr th {\n        vertical-align: top;\n    }\n\n    .dataframe thead th {\n        text-align: right;\n    }\n</style>\n<table border=\"1\" class=\"dataframe\">\n  <thead>\n    <tr style=\"text-align: right;\">\n      <th></th>\n      <th>longitude</th>\n      <th>latitude</th>\n      <th>housing_median_age</th>\n      <th>total_rooms</th>\n      <th>total_bedrooms</th>\n      <th>population</th>\n      <th>households</th>\n      <th>median_income</th>\n      <th>median_house_value</th>\n      <th>ocean_proximity</th>\n    </tr>\n  </thead>\n  <tbody>\n    <tr>\n      <th>0</th>\n      <td>-122.23</td>\n      <td>37.88</td>\n      <td>41.0</td>\n      <td>880.0</td>\n      <td>129.0</td>\n      <td>322.0</td>\n      <td>126.0</td>\n      <td>8.3252</td>\n      <td>452600.0</td>\n      <td>NEAR BAY</td>\n    </tr>\n    <tr>\n      <th>1</th>\n      <td>-122.22</td>\n      <td>37.86</td>\n      <td>21.0</td>\n      <td>7099.0</td>\n      <td>1106.0</td>\n      <td>2401.0</td>\n      <td>1138.0</td>\n      <td>8.3014</td>\n      <td>358500.0</td>\n      <td>NEAR BAY</td>\n    </tr>\n    <tr>\n      <th>2</th>\n      <td>-122.24</td>\n      <td>37.85</td>\n      <td>52.0</td>\n      <td>1467.0</td>\n      <td>190.0</td>\n      <td>496.0</td>\n      <td>177.0</td>\n      <td>7.2574</td>\n      <td>352100.0</td>\n      <td>NEAR BAY</td>\n    </tr>\n    <tr>\n      <th>3</th>\n      <td>-122.25</td>\n      <td>37.85</td>\n      <td>52.0</td>\n      <td>1274.0</td>\n      <td>235.0</td>\n      <td>558.0</td>\n      <td>219.0</td>\n      <td>5.6431</td>\n      <td>341300.0</td>\n      <td>NEAR BAY</td>\n    </tr>\n    <tr>\n      <th>4</th>\n      <td>-122.25</td>\n      <td>37.85</td>\n      <td>52.0</td>\n      <td>1627.0</td>\n      <td>280.0</td>\n      <td>565.0</td>\n      <td>259.0</td>\n      <td>3.8462</td>\n      <td>342200.0</td>\n      <td>NEAR BAY</td>\n    </tr>\n  </tbody>\n</table>\n</div>"
          },
          "metadata": {}
        }
      ],
      "execution_count": 3,
      "metadata": {
        "gather": {
          "logged": 1664069359715
        }
      },
      "id": "a6a5afb5"
    },
    {
      "cell_type": "code",
      "source": [
        "house_df.columns"
      ],
      "outputs": [
        {
          "output_type": "execute_result",
          "execution_count": 4,
          "data": {
            "text/plain": "Index(['longitude', 'latitude', 'housing_median_age', 'total_rooms',\n       'total_bedrooms', 'population', 'households', 'median_income',\n       'median_house_value', 'ocean_proximity'],\n      dtype='object')"
          },
          "metadata": {}
        }
      ],
      "execution_count": 4,
      "metadata": {
        "gather": {
          "logged": 1664069361109
        }
      },
      "id": "0d123342"
    },
    {
      "cell_type": "markdown",
      "source": [
        "## Data Preparation\n",
        "\n",
        "-    Select only the features from above and fill in the missing values with 0.\n",
        "\n",
        "-    Create a new column rooms_per_household by dividing the column total_rooms by the column households from dataframe.\n",
        "\n",
        "-    Create a new column bedrooms_per_room by dividing the column total_bedrooms by the column total_rooms from dataframe.\n",
        "\n",
        "-    Create a new column population_per_household by dividing the column population by the column households from dataframe.\n"
      ],
      "metadata": {},
      "id": "2ff43ce7"
    },
    {
      "cell_type": "code",
      "source": [
        "house_df = house_df[[\n",
        "    'latitude',\n",
        "    'longitude',\n",
        "    'housing_median_age',\n",
        "    'total_rooms',\n",
        "    'total_bedrooms',\n",
        "    'population',\n",
        "    'households',\n",
        "    'median_income',\n",
        "    'median_house_value',\n",
        "    'ocean_proximity',\n",
        "]]"
      ],
      "outputs": [],
      "execution_count": 5,
      "metadata": {
        "gather": {
          "logged": 1664069362794
        }
      },
      "id": "172ee12d"
    },
    {
      "cell_type": "code",
      "source": [
        "house_df.isna().sum()"
      ],
      "outputs": [
        {
          "output_type": "execute_result",
          "execution_count": 6,
          "data": {
            "text/plain": "latitude                0\nlongitude               0\nhousing_median_age      0\ntotal_rooms             0\ntotal_bedrooms        207\npopulation              0\nhouseholds              0\nmedian_income           0\nmedian_house_value      0\nocean_proximity         0\ndtype: int64"
          },
          "metadata": {}
        }
      ],
      "execution_count": 6,
      "metadata": {
        "gather": {
          "logged": 1664069363800
        }
      },
      "id": "3725bded"
    },
    {
      "cell_type": "code",
      "source": [
        "house_df['total_bedrooms'] = house_df['total_bedrooms'].fillna(0)\n",
        "house_df.isna().sum()"
      ],
      "outputs": [
        {
          "output_type": "execute_result",
          "execution_count": 7,
          "data": {
            "text/plain": "latitude              0\nlongitude             0\nhousing_median_age    0\ntotal_rooms           0\ntotal_bedrooms        0\npopulation            0\nhouseholds            0\nmedian_income         0\nmedian_house_value    0\nocean_proximity       0\ndtype: int64"
          },
          "metadata": {}
        }
      ],
      "execution_count": 7,
      "metadata": {
        "gather": {
          "logged": 1664069364511
        }
      },
      "id": "55a2cdb4"
    },
    {
      "cell_type": "code",
      "source": [
        "house_df['rooms_per_household'] = house_df['total_rooms']/house_df['households']\n",
        "house_df['rooms_per_household'].head()"
      ],
      "outputs": [
        {
          "output_type": "execute_result",
          "execution_count": 8,
          "data": {
            "text/plain": "0    6.984127\n1    6.238137\n2    8.288136\n3    5.817352\n4    6.281853\nName: rooms_per_household, dtype: float64"
          },
          "metadata": {}
        }
      ],
      "execution_count": 8,
      "metadata": {
        "gather": {
          "logged": 1664069365522
        }
      },
      "id": "7741badc"
    },
    {
      "cell_type": "code",
      "source": [
        "house_df['bedrooms_per_room'] = house_df['total_bedrooms']/house_df['total_rooms']\n",
        "house_df['bedrooms_per_room'].head()"
      ],
      "outputs": [
        {
          "output_type": "execute_result",
          "execution_count": 9,
          "data": {
            "text/plain": "0    0.146591\n1    0.155797\n2    0.129516\n3    0.184458\n4    0.172096\nName: bedrooms_per_room, dtype: float64"
          },
          "metadata": {}
        }
      ],
      "execution_count": 9,
      "metadata": {
        "gather": {
          "logged": 1664069366178
        }
      },
      "id": "6152ba06"
    },
    {
      "cell_type": "code",
      "source": [
        "house_df['population_per_household'] = house_df['population']/house_df['households']\n",
        "house_df['population_per_household'].head()"
      ],
      "outputs": [
        {
          "output_type": "execute_result",
          "execution_count": 10,
          "data": {
            "text/plain": "0    2.555556\n1    2.109842\n2    2.802260\n3    2.547945\n4    2.181467\nName: population_per_household, dtype: float64"
          },
          "metadata": {}
        }
      ],
      "execution_count": 10,
      "metadata": {
        "gather": {
          "logged": 1664069367304
        }
      },
      "id": "efbd17f2"
    },
    {
      "cell_type": "markdown",
      "source": [
        "## Question 1\n",
        "\n",
        "What is the most frequent observation (mode) for the column ocean_proximity?\n",
        "\n",
        "Options:\n",
        "\n",
        "-    NEAR BAY\n",
        "\n",
        "-    <1H OCEAN\n",
        "\n",
        "-    INLAND\n",
        "\n",
        "-    NEAR OCEAN\n"
      ],
      "metadata": {},
      "id": "3e1e2079"
    },
    {
      "cell_type": "code",
      "source": [
        "house_df['ocean_proximity'].value_counts()"
      ],
      "outputs": [
        {
          "output_type": "execute_result",
          "execution_count": 11,
          "data": {
            "text/plain": "<1H OCEAN     9136\nINLAND        6551\nNEAR OCEAN    2658\nNEAR BAY      2290\nISLAND           5\nName: ocean_proximity, dtype: int64"
          },
          "metadata": {}
        }
      ],
      "execution_count": 11,
      "metadata": {
        "gather": {
          "logged": 1664069368074
        }
      },
      "id": "d97f2ac6"
    },
    {
      "cell_type": "markdown",
      "source": [
        "## Split the data\n",
        "\n",
        "-    Split your data in train/val/test sets, with 60%/20%/20% distribution.\n",
        "\n",
        "-    Use Scikit-Learn for that (the train_test_split function) and set the seed to 42.\n",
        "\n",
        "-    Make sure that the target value (median_house_value) is not in your dataframe.\n"
      ],
      "metadata": {},
      "id": "8e6d8961"
    },
    {
      "cell_type": "code",
      "source": [
        "train_full_df, test_df = train_test_split(house_df, test_size=0.2, random_state=42)"
      ],
      "outputs": [],
      "execution_count": 12,
      "metadata": {
        "gather": {
          "logged": 1664069368990
        }
      },
      "id": "2aac36ac"
    },
    {
      "cell_type": "code",
      "source": [
        "train_df, val_df = train_test_split(train_full_df, test_size=(0.2/0.8), random_state=42)"
      ],
      "outputs": [],
      "execution_count": 13,
      "metadata": {
        "gather": {
          "logged": 1664069369421
        }
      },
      "id": "aaaea794"
    },
    {
      "cell_type": "code",
      "source": [
        "len(train_df), len(val_df), len(test_df)"
      ],
      "outputs": [
        {
          "output_type": "execute_result",
          "execution_count": 14,
          "data": {
            "text/plain": "(12384, 4128, 4128)"
          },
          "metadata": {}
        }
      ],
      "execution_count": 14,
      "metadata": {
        "gather": {
          "logged": 1664069370026
        }
      },
      "id": "cebd8143"
    },
    {
      "cell_type": "code",
      "source": [
        "x_train = train_df.drop('median_house_value', axis=1)\n",
        "x_val = val_df.drop('median_house_value', axis=1)\n",
        "x_test = test_df.drop('median_house_value', axis=1)\n",
        "\n",
        "y_train = train_df['median_house_value']\n",
        "y_val = val_df['median_house_value']\n",
        "y_test = test_df['median_house_value']"
      ],
      "outputs": [],
      "execution_count": 15,
      "metadata": {
        "gather": {
          "logged": 1664069370837
        }
      },
      "id": "495e679f"
    },
    {
      "cell_type": "code",
      "source": [
        "x_train.reset_index(drop=True, inplace=True)\n",
        "x_val.reset_index(drop=True, inplace=True)\n",
        "x_test.reset_index(drop=True, inplace=True)\n",
        "\n",
        "y_train.reset_index(drop=True, inplace=True)\n",
        "y_val.reset_index(drop=True, inplace=True)\n",
        "y_test.reset_index(drop=True, inplace=True)"
      ],
      "outputs": [],
      "execution_count": 16,
      "metadata": {
        "scrolled": true,
        "gather": {
          "logged": 1664069371834
        }
      },
      "id": "cfa81465"
    },
    {
      "cell_type": "code",
      "source": [
        "'median_house_value' in x_train.columns, 'median_house_value' in x_val.columns, 'median_house_value' in x_test.columns"
      ],
      "outputs": [
        {
          "output_type": "execute_result",
          "execution_count": 17,
          "data": {
            "text/plain": "(False, False, False)"
          },
          "metadata": {}
        }
      ],
      "execution_count": 17,
      "metadata": {
        "gather": {
          "logged": 1664069372784
        }
      },
      "id": "d26f1356"
    },
    {
      "cell_type": "markdown",
      "source": [
        "## Question 2\n",
        "\n",
        "Create the correlation matrix for the numerical features of your train dataset.\n",
        "\n",
        "In a correlation matrix, you compute the correlation coefficient between every pair of features in the dataset.\n",
        "\n",
        "What are the two features that have the biggest correlation in this dataset?\n",
        "\n",
        "Options:\n",
        "\n",
        "-    total_bedrooms and households\n",
        "\n",
        "-    total_bedrooms and total_rooms\n",
        "\n",
        "-    population and households\n",
        "\n",
        "-    population_per_household and total_rooms\n"
      ],
      "metadata": {},
      "id": "6f42250f"
    },
    {
      "cell_type": "code",
      "source": [
        "x_train.info()"
      ],
      "outputs": [
        {
          "output_type": "stream",
          "name": "stdout",
          "text": "<class 'pandas.core.frame.DataFrame'>\nRangeIndex: 12384 entries, 0 to 12383\nData columns (total 12 columns):\n #   Column                    Non-Null Count  Dtype  \n---  ------                    --------------  -----  \n 0   latitude                  12384 non-null  float64\n 1   longitude                 12384 non-null  float64\n 2   housing_median_age        12384 non-null  float64\n 3   total_rooms               12384 non-null  float64\n 4   total_bedrooms            12384 non-null  float64\n 5   population                12384 non-null  float64\n 6   households                12384 non-null  float64\n 7   median_income             12384 non-null  float64\n 8   ocean_proximity           12384 non-null  object \n 9   rooms_per_household       12384 non-null  float64\n 10  bedrooms_per_room         12384 non-null  float64\n 11  population_per_household  12384 non-null  float64\ndtypes: float64(11), object(1)\nmemory usage: 1.1+ MB\n"
        }
      ],
      "execution_count": 18,
      "metadata": {
        "scrolled": true,
        "gather": {
          "logged": 1664069374084
        }
      },
      "id": "b8f5501e"
    },
    {
      "cell_type": "code",
      "source": [
        "numerical = ['latitude', 'longitude', 'housing_median_age', 'total_rooms',\n",
        "       'total_bedrooms', 'population', 'households', 'median_income', \n",
        "        'rooms_per_household','bedrooms_per_room', 'population_per_household']"
      ],
      "outputs": [],
      "execution_count": 19,
      "metadata": {
        "gather": {
          "logged": 1664069375432
        }
      },
      "id": "970648b6"
    },
    {
      "cell_type": "code",
      "source": [
        "correlation_matrix = x_train[numerical].corr()\n",
        "correlation_matrix"
      ],
      "outputs": [
        {
          "output_type": "execute_result",
          "execution_count": 20,
          "data": {
            "text/plain": "                          latitude  longitude  housing_median_age  \\\nlatitude                  1.000000  -0.925005            0.002477   \nlongitude                -0.925005   1.000000           -0.099812   \nhousing_median_age        0.002477  -0.099812            1.000000   \ntotal_rooms              -0.025914   0.036449           -0.363522   \ntotal_bedrooms           -0.059730   0.063840           -0.324156   \npopulation               -0.100272   0.091670           -0.292476   \nhouseholds               -0.063529   0.049762           -0.306119   \nmedian_income            -0.076805  -0.016426           -0.119591   \nrooms_per_household       0.119118  -0.034814           -0.181275   \nbedrooms_per_room        -0.124507   0.102320            0.129456   \npopulation_per_household -0.002301   0.011022            0.012167   \n\n                          total_rooms  total_bedrooms  population  households  \\\nlatitude                    -0.025914       -0.059730   -0.100272   -0.063529   \nlongitude                    0.036449        0.063840    0.091670    0.049762   \nhousing_median_age          -0.363522       -0.324156   -0.292476   -0.306119   \ntotal_rooms                  1.000000        0.931546    0.853219    0.921441   \ntotal_bedrooms               0.931546        1.000000    0.877340    0.979399   \npopulation                   0.853219        0.877340    1.000000    0.906841   \nhouseholds                   0.921441        0.979399    0.906841    1.000000   \nmedian_income                0.198951       -0.009833   -0.000849    0.011925   \nrooms_per_household          0.168926        0.010381   -0.076210   -0.085832   \nbedrooms_per_room           -0.194185        0.078094    0.031592    0.058004   \npopulation_per_household    -0.029452       -0.034301    0.064998   -0.032522   \n\n                          median_income  rooms_per_household  \\\nlatitude                      -0.076805             0.119118   \nlongitude                     -0.016426            -0.034814   \nhousing_median_age            -0.119591            -0.181275   \ntotal_rooms                    0.198951             0.168926   \ntotal_bedrooms                -0.009833             0.010381   \npopulation                    -0.000849            -0.076210   \nhouseholds                     0.011925            -0.085832   \nmedian_income                  1.000000             0.394154   \nrooms_per_household            0.394154             1.000000   \nbedrooms_per_room             -0.616617            -0.500589   \npopulation_per_household      -0.000454             0.001801   \n\n                          bedrooms_per_room  population_per_household  \nlatitude                          -0.124507                 -0.002301  \nlongitude                          0.102320                  0.011022  \nhousing_median_age                 0.129456                  0.012167  \ntotal_rooms                       -0.194185                 -0.029452  \ntotal_bedrooms                     0.078094                 -0.034301  \npopulation                         0.031592                  0.064998  \nhouseholds                         0.058004                 -0.032522  \nmedian_income                     -0.616617                 -0.000454  \nrooms_per_household               -0.500589                  0.001801  \nbedrooms_per_room                  1.000000                 -0.002851  \npopulation_per_household          -0.002851                  1.000000  ",
            "text/html": "<div>\n<style scoped>\n    .dataframe tbody tr th:only-of-type {\n        vertical-align: middle;\n    }\n\n    .dataframe tbody tr th {\n        vertical-align: top;\n    }\n\n    .dataframe thead th {\n        text-align: right;\n    }\n</style>\n<table border=\"1\" class=\"dataframe\">\n  <thead>\n    <tr style=\"text-align: right;\">\n      <th></th>\n      <th>latitude</th>\n      <th>longitude</th>\n      <th>housing_median_age</th>\n      <th>total_rooms</th>\n      <th>total_bedrooms</th>\n      <th>population</th>\n      <th>households</th>\n      <th>median_income</th>\n      <th>rooms_per_household</th>\n      <th>bedrooms_per_room</th>\n      <th>population_per_household</th>\n    </tr>\n  </thead>\n  <tbody>\n    <tr>\n      <th>latitude</th>\n      <td>1.000000</td>\n      <td>-0.925005</td>\n      <td>0.002477</td>\n      <td>-0.025914</td>\n      <td>-0.059730</td>\n      <td>-0.100272</td>\n      <td>-0.063529</td>\n      <td>-0.076805</td>\n      <td>0.119118</td>\n      <td>-0.124507</td>\n      <td>-0.002301</td>\n    </tr>\n    <tr>\n      <th>longitude</th>\n      <td>-0.925005</td>\n      <td>1.000000</td>\n      <td>-0.099812</td>\n      <td>0.036449</td>\n      <td>0.063840</td>\n      <td>0.091670</td>\n      <td>0.049762</td>\n      <td>-0.016426</td>\n      <td>-0.034814</td>\n      <td>0.102320</td>\n      <td>0.011022</td>\n    </tr>\n    <tr>\n      <th>housing_median_age</th>\n      <td>0.002477</td>\n      <td>-0.099812</td>\n      <td>1.000000</td>\n      <td>-0.363522</td>\n      <td>-0.324156</td>\n      <td>-0.292476</td>\n      <td>-0.306119</td>\n      <td>-0.119591</td>\n      <td>-0.181275</td>\n      <td>0.129456</td>\n      <td>0.012167</td>\n    </tr>\n    <tr>\n      <th>total_rooms</th>\n      <td>-0.025914</td>\n      <td>0.036449</td>\n      <td>-0.363522</td>\n      <td>1.000000</td>\n      <td>0.931546</td>\n      <td>0.853219</td>\n      <td>0.921441</td>\n      <td>0.198951</td>\n      <td>0.168926</td>\n      <td>-0.194185</td>\n      <td>-0.029452</td>\n    </tr>\n    <tr>\n      <th>total_bedrooms</th>\n      <td>-0.059730</td>\n      <td>0.063840</td>\n      <td>-0.324156</td>\n      <td>0.931546</td>\n      <td>1.000000</td>\n      <td>0.877340</td>\n      <td>0.979399</td>\n      <td>-0.009833</td>\n      <td>0.010381</td>\n      <td>0.078094</td>\n      <td>-0.034301</td>\n    </tr>\n    <tr>\n      <th>population</th>\n      <td>-0.100272</td>\n      <td>0.091670</td>\n      <td>-0.292476</td>\n      <td>0.853219</td>\n      <td>0.877340</td>\n      <td>1.000000</td>\n      <td>0.906841</td>\n      <td>-0.000849</td>\n      <td>-0.076210</td>\n      <td>0.031592</td>\n      <td>0.064998</td>\n    </tr>\n    <tr>\n      <th>households</th>\n      <td>-0.063529</td>\n      <td>0.049762</td>\n      <td>-0.306119</td>\n      <td>0.921441</td>\n      <td>0.979399</td>\n      <td>0.906841</td>\n      <td>1.000000</td>\n      <td>0.011925</td>\n      <td>-0.085832</td>\n      <td>0.058004</td>\n      <td>-0.032522</td>\n    </tr>\n    <tr>\n      <th>median_income</th>\n      <td>-0.076805</td>\n      <td>-0.016426</td>\n      <td>-0.119591</td>\n      <td>0.198951</td>\n      <td>-0.009833</td>\n      <td>-0.000849</td>\n      <td>0.011925</td>\n      <td>1.000000</td>\n      <td>0.394154</td>\n      <td>-0.616617</td>\n      <td>-0.000454</td>\n    </tr>\n    <tr>\n      <th>rooms_per_household</th>\n      <td>0.119118</td>\n      <td>-0.034814</td>\n      <td>-0.181275</td>\n      <td>0.168926</td>\n      <td>0.010381</td>\n      <td>-0.076210</td>\n      <td>-0.085832</td>\n      <td>0.394154</td>\n      <td>1.000000</td>\n      <td>-0.500589</td>\n      <td>0.001801</td>\n    </tr>\n    <tr>\n      <th>bedrooms_per_room</th>\n      <td>-0.124507</td>\n      <td>0.102320</td>\n      <td>0.129456</td>\n      <td>-0.194185</td>\n      <td>0.078094</td>\n      <td>0.031592</td>\n      <td>0.058004</td>\n      <td>-0.616617</td>\n      <td>-0.500589</td>\n      <td>1.000000</td>\n      <td>-0.002851</td>\n    </tr>\n    <tr>\n      <th>population_per_household</th>\n      <td>-0.002301</td>\n      <td>0.011022</td>\n      <td>0.012167</td>\n      <td>-0.029452</td>\n      <td>-0.034301</td>\n      <td>0.064998</td>\n      <td>-0.032522</td>\n      <td>-0.000454</td>\n      <td>0.001801</td>\n      <td>-0.002851</td>\n      <td>1.000000</td>\n    </tr>\n  </tbody>\n</table>\n</div>"
          },
          "metadata": {}
        }
      ],
      "execution_count": 20,
      "metadata": {
        "gather": {
          "logged": 1664069377100
        }
      },
      "id": "78cbbbb7"
    },
    {
      "cell_type": "code",
      "source": [
        "fig, ax = plt.subplots(figsize=(8,8))\n",
        "sn.heatmap(correlation_matrix, annot=True, ax=ax)\n",
        "plt.show()"
      ],
      "outputs": [
        {
          "output_type": "display_data",
          "data": {
            "text/plain": "<Figure size 576x576 with 2 Axes>",
            "image/png": "[encoded data removed]"
          },
          "metadata": {
            "needs_background": "light"
          }
        }
      ],
      "execution_count": 21,
      "metadata": {
        "gather": {
          "logged": 1664069378701
        }
      },
      "id": "e0b047a2"
    },
    {
      "cell_type": "markdown",
      "source": [
        "Make median_house_value binary\n",
        "\n",
        "-    We need to turn the median_house_value variable from numeric into binary.\n",
        "\n",
        "-    Let's create a variable above_average which is 1 if the median_house_value is above its mean value and 0 otherwise.\n"
      ],
      "metadata": {},
      "id": "b1b57301"
    },
    {
      "cell_type": "code",
      "source": [
        "def binarize(serie):\n",
        "    mean_value = serie.mean()\n",
        "    return serie.apply(lambda x: 1 if x>mean_value else 0).astype(int)"
      ],
      "outputs": [],
      "execution_count": 22,
      "metadata": {
        "gather": {
          "logged": 1664069379547
        }
      },
      "id": "f5577947"
    },
    {
      "cell_type": "code",
      "source": [
        "y_train_binary = binarize(y_train)\n",
        "y_val_binary = binarize(y_val)\n",
        "y_test_binary = binarize(y_test)\n",
        "\n",
        "pd.concat([y_train_binary, y_val_binary, y_test_binary], axis=1).head()"
      ],
      "outputs": [
        {
          "output_type": "execute_result",
          "execution_count": 23,
          "data": {
            "text/plain": "   median_house_value  median_house_value  median_house_value\n0                   1                 0.0                 0.0\n1                   1                 0.0                 0.0\n2                   0                 1.0                 1.0\n3                   1                 1.0                 1.0\n4                   1                 1.0                 1.0",
            "text/html": "<div>\n<style scoped>\n    .dataframe tbody tr th:only-of-type {\n        vertical-align: middle;\n    }\n\n    .dataframe tbody tr th {\n        vertical-align: top;\n    }\n\n    .dataframe thead th {\n        text-align: right;\n    }\n</style>\n<table border=\"1\" class=\"dataframe\">\n  <thead>\n    <tr style=\"text-align: right;\">\n      <th></th>\n      <th>median_house_value</th>\n      <th>median_house_value</th>\n      <th>median_house_value</th>\n    </tr>\n  </thead>\n  <tbody>\n    <tr>\n      <th>0</th>\n      <td>1</td>\n      <td>0.0</td>\n      <td>0.0</td>\n    </tr>\n    <tr>\n      <th>1</th>\n      <td>1</td>\n      <td>0.0</td>\n      <td>0.0</td>\n    </tr>\n    <tr>\n      <th>2</th>\n      <td>0</td>\n      <td>1.0</td>\n      <td>1.0</td>\n    </tr>\n    <tr>\n      <th>3</th>\n      <td>1</td>\n      <td>1.0</td>\n      <td>1.0</td>\n    </tr>\n    <tr>\n      <th>4</th>\n      <td>1</td>\n      <td>1.0</td>\n      <td>1.0</td>\n    </tr>\n  </tbody>\n</table>\n</div>"
          },
          "metadata": {}
        }
      ],
      "execution_count": 23,
      "metadata": {
        "scrolled": true,
        "gather": {
          "logged": 1664069380077
        }
      },
      "id": "68c012c9"
    },
    {
      "cell_type": "markdown",
      "source": [
        "## Question 3\n",
        "\n",
        "Calculate the mutual information score with the (binarized) price for the categorical variable that we have. Use the training set only.\n",
        "\n",
        "What is the value of mutual information?\n",
        "\n",
        "Round it to 2 decimal digits using round(score, 2)\n",
        "\n",
        "Options:\n",
        "\n",
        "-    0.26\n",
        "\n",
        "-    0\n",
        "\n",
        "-    0.10\n",
        "\n",
        "-    0.16\n"
      ],
      "metadata": {},
      "id": "22d28bc1"
    },
    {
      "cell_type": "code",
      "source": [
        "categorical = ['ocean_proximity']"
      ],
      "outputs": [],
      "execution_count": 24,
      "metadata": {
        "gather": {
          "logged": 1664069381047
        }
      },
      "id": "32a5e582"
    },
    {
      "cell_type": "code",
      "source": [
        "x_train[categorical].apply(lambda x: round(mutual_info_score(x, y_train_binary),2))"
      ],
      "outputs": [
        {
          "output_type": "execute_result",
          "execution_count": 25,
          "data": {
            "text/plain": "ocean_proximity    0.1\ndtype: float64"
          },
          "metadata": {}
        }
      ],
      "execution_count": 25,
      "metadata": {
        "gather": {
          "logged": 1664069382217
        }
      },
      "id": "c57671bf"
    },
    {
      "cell_type": "markdown",
      "source": [
        "## Question 4\n",
        "\n",
        "Now let's train a logistic regression\n",
        "\n",
        "Remember that we have one categorical variable ocean_proximity in the data. Include it using one-hot encoding.\n",
        "\n",
        "Fit the model on the training dataset.\n",
        "\n",
        "To make sure the results are reproducible across different versions of Scikit-Learn, fit the model with these parameters:\n",
        "\n",
        "    model = LogisticRegression(solver=\"liblinear\", C=1.0, max_iter=1000, random_state=42)\n",
        "\n",
        "Calculate the accuracy on the validation dataset and round it to 2 decimal digits.\n",
        "\n",
        "Options:\n",
        "\n",
        "-    0.60\n",
        "\n",
        "-    0.72\n",
        "\n",
        "-    0.84\n",
        "\n",
        "-    0.95\n"
      ],
      "metadata": {},
      "id": "37698764"
    },
    {
      "cell_type": "code",
      "source": [
        "x_train_dict = x_train[categorical + numerical].to_dict(orient='records')"
      ],
      "outputs": [],
      "execution_count": 26,
      "metadata": {
        "gather": {
          "logged": 1664069383213
        }
      },
      "id": "cc66e061"
    },
    {
      "cell_type": "code",
      "source": [
        "dv = DictVectorizer(sparse=False)"
      ],
      "outputs": [],
      "execution_count": 27,
      "metadata": {
        "gather": {
          "logged": 1664069384305
        }
      },
      "id": "39905cee"
    },
    {
      "cell_type": "code",
      "source": [
        "X_train = dv.fit_transform(x_train_dict)"
      ],
      "outputs": [],
      "execution_count": 28,
      "metadata": {
        "gather": {
          "logged": 1664069385285
        }
      },
      "id": "a9054434"
    },
    {
      "cell_type": "code",
      "source": [
        "model = LogisticRegression(solver=\"liblinear\", C=1.0, max_iter=1000, random_state=42)\n",
        "model.fit(X_train, y_train)"
      ],
      "outputs": [
        {
          "output_type": "execute_result",
          "execution_count": 29,
          "data": {
            "text/plain": "LogisticRegression(C=1.0, class_weight=None, dual=False, fit_intercept=True,\n                   intercept_scaling=1, l1_ratio=None, max_iter=1000,\n                   multi_class='auto', n_jobs=None, penalty='l2',\n                   random_state=42, solver='liblinear', tol=0.0001, verbose=0,\n                   warm_start=False)"
          },
          "metadata": {}
        }
      ],
      "execution_count": 29,
      "metadata": {
        "gather": {
          "logged": 1664069975779
        }
      },
      "id": "c4c93597"
    },
    {
      "cell_type": "code",
      "source": [
        "x_val_dict = x_val[categorical + numerical].to_dict(orient='records')\n",
        "X_val = dv.transform(x_val_dict)\n",
        "\n",
        "y_pred = model.predict_proba(X_val)[:, 1]\n",
        "y_pred"
      ],
      "outputs": [
        {
          "output_type": "execute_result",
          "execution_count": 30,
          "data": {
            "text/plain": "array([3.70110168e-06, 2.78673230e-07, 1.07905432e-16, ...,\n       2.37627073e-12, 2.79315280e-12, 7.69380400e-07])"
          },
          "metadata": {}
        }
      ],
      "execution_count": 30,
      "metadata": {
        "gather": {
          "logged": 1664069976519
        }
      },
      "id": "102e2a9f"
    },
    {
      "cell_type": "code",
      "source": [
        "above_mean_value = y_pred>0.5"
      ],
      "outputs": [],
      "execution_count": 31,
      "metadata": {
        "gather": {
          "logged": 1664069977146
        }
      },
      "id": "28eaac2b"
    },
    {
      "cell_type": "code",
      "source": [
        "global_accuracy = round((y_val_binary == above_mean_value).mean(),2)\n",
        "global_accuracy"
      ],
      "outputs": [
        {
          "output_type": "execute_result",
          "execution_count": 32,
          "data": {
            "text/plain": "0.6"
          },
          "metadata": {}
        }
      ],
      "execution_count": 32,
      "metadata": {
        "gather": {
          "logged": 1664069977744
        }
      },
      "id": "5ea5fb7d"
    },
    {
      "cell_type": "markdown",
      "source": [
        "## Question 5\n",
        "\n",
        "Let's find the least useful feature using the feature elimination technique.\n",
        "\n",
        "Train a model with all these features (using the same parameters as in Q4).\n",
        "\n",
        "Now exclude each feature from this set and train a model without it. Record the accuracy for each model.\n",
        "\n",
        "For each feature, calculate the difference between the original accuracy and the accuracy without the feature.\n",
        "\n",
        "Which of following feature has the smallest difference?\n",
        "\n",
        " -      total_rooms\n",
        " \n",
        " -      total_bedrooms\n",
        " \n",
        " -      population\n",
        " \n",
        " -      households\n",
        "\n",
        "    note: the difference doesn't have to be positive\n"
      ],
      "metadata": {},
      "id": "16ac1579"
    },
    {
      "cell_type": "code",
      "source": [
        "def train_predict_model(x_train_df, x_val_df, features, y_train_df):\n",
        "    x_train_dict = x_train_df[features].to_dict(orient='records')\n",
        "    dv = DictVectorizer(sparse=False)\n",
        "    X_train = dv.fit_transform(x_train_dict)\n",
        "    model = LogisticRegression(solver=\"liblinear\", C=1.0, max_iter=1000, random_state=42)\n",
        "    model.fit(X_train, y_train_df)\n",
        "    \n",
        "    x_val_dict = x_val_df[features].to_dict(orient='records')\n",
        "    X_val = dv.transform(x_val_dict)\n",
        "\n",
        "    return model.predict_proba(X_val)[:, 1] "
      ],
      "outputs": [],
      "execution_count": 33,
      "metadata": {
        "jupyter": {
          "source_hidden": false,
          "outputs_hidden": false
        },
        "nteract": {
          "transient": {
            "deleting": false
          }
        },
        "gather": {
          "logged": 1664069978249
        }
      },
      "id": "2ec1d673-d17b-43e4-abbb-30b994d84760"
    },
    {
      "cell_type": "code",
      "source": [
        "feature_list = [\n",
        "    'latitude', 'longitude', 'housing_median_age', 'total_rooms',\n",
        "       'total_bedrooms', 'population', 'households', 'median_income',\n",
        "       'ocean_proximity', 'rooms_per_household', 'bedrooms_per_room',\n",
        "       'population_per_household'\n",
        "]"
      ],
      "outputs": [],
      "execution_count": 34,
      "metadata": {
        "gather": {
          "logged": 1664069978709
        }
      },
      "id": "cc6c5dca"
    },
    {
      "cell_type": "code",
      "source": [
        "for feature in feature_list:\n",
        "    feat = list(filter(lambda x: x!=feature, feature_list))\n",
        "    pred = train_predict_model(x_train, x_val, feat, y_train_binary)\n",
        "    \n",
        "    above_mean_value = pred>0.5\n",
        "    accuracy = round((y_val_binary == above_mean_value).mean(),2)\n",
        "    print(f'Feature: {feature}, Accuracy: {accuracy}, Diferença: {round(global_accuracy - accuracy,2)}')"
      ],
      "outputs": [
        {
          "output_type": "stream",
          "name": "stdout",
          "text": "Feature: latitude, Accuracy: 0.83, Diferença: -0.23\nFeature: longitude, Accuracy: 0.83, Diferença: -0.23\nFeature: housing_median_age, Accuracy: 0.83, Diferença: -0.23\nFeature: total_rooms, Accuracy: 0.84, Diferença: -0.24\nFeature: total_bedrooms, Accuracy: 0.84, Diferença: -0.24\nFeature: population, Accuracy: 0.83, Diferença: -0.23\nFeature: households, Accuracy: 0.83, Diferença: -0.23\nFeature: median_income, Accuracy: 0.79, Diferença: -0.19\nFeature: ocean_proximity, Accuracy: 0.82, Diferença: -0.22\nFeature: rooms_per_household, Accuracy: 0.84, Diferença: -0.24\nFeature: bedrooms_per_room, Accuracy: 0.84, Diferença: -0.24\nFeature: population_per_household, Accuracy: 0.84, Diferença: -0.24\n"
        }
      ],
      "execution_count": 35,
      "metadata": {
        "jupyter": {
          "source_hidden": false,
          "outputs_hidden": false
        },
        "nteract": {
          "transient": {
            "deleting": false
          }
        },
        "gather": {
          "logged": 1664069981366
        }
      },
      "id": "ec262af6-114f-46cd-8fac-faac24524491"
    },
    {
      "cell_type": "markdown",
      "source": [
        "## Question 6\n",
        "\n",
        "For this question, we'll see how to use a linear regression model from Scikit-Learn\n",
        "\n",
        "We'll need to use the original column 'median_house_value'. Apply the logarithmic transformation to this column.\n",
        "\n",
        "Fit the Ridge regression model (model = Ridge(alpha=a, solver=\"sag\", random_state=42)) on the training data.\n",
        "\n",
        "This model has a parameter alpha. Let's try the following values: [0, 0.01, 0.1, 1, 10]\n",
        "\n",
        "Which of these alphas leads to the best RMSE on the validation set? Round your RMSE scores to 3 decimal digits.\n",
        "\n",
        "If there are multiple options, select the smallest alpha.\n",
        "\n",
        "Options:\n",
        "\n",
        "-    0\n",
        "\n",
        "-    0.01\n",
        "\n",
        "-    0.1\n",
        "\n",
        "-    1\n",
        "\n",
        "-    10\n"
      ],
      "metadata": {},
      "id": "987fca18"
    },
    {
      "cell_type": "code",
      "source": [
        "y_train_log = np.log1p(y_train)\n",
        "y_val_log = np.log1p(y_val) \n",
        "y_test_log = np.log1p(y_test)\n",
        "\n",
        "\n",
        "pd.concat([y_train_log, y_val_log, y_test_log], axis=1).head()"
      ],
      "outputs": [
        {
          "output_type": "execute_result",
          "execution_count": 36,
          "data": {
            "text/plain": "   median_house_value  median_house_value  median_house_value\n0           12.394215           11.479379           10.772708\n1           13.122367           11.231901           10.732061\n2           11.068215           12.973634           13.122367\n3           12.532498           12.714699           12.295003\n4           12.940844           13.122367           12.535380",
            "text/html": "<div>\n<style scoped>\n    .dataframe tbody tr th:only-of-type {\n        vertical-align: middle;\n    }\n\n    .dataframe tbody tr th {\n        vertical-align: top;\n    }\n\n    .dataframe thead th {\n        text-align: right;\n    }\n</style>\n<table border=\"1\" class=\"dataframe\">\n  <thead>\n    <tr style=\"text-align: right;\">\n      <th></th>\n      <th>median_house_value</th>\n      <th>median_house_value</th>\n      <th>median_house_value</th>\n    </tr>\n  </thead>\n  <tbody>\n    <tr>\n      <th>0</th>\n      <td>12.394215</td>\n      <td>11.479379</td>\n      <td>10.772708</td>\n    </tr>\n    <tr>\n      <th>1</th>\n      <td>13.122367</td>\n      <td>11.231901</td>\n      <td>10.732061</td>\n    </tr>\n    <tr>\n      <th>2</th>\n      <td>11.068215</td>\n      <td>12.973634</td>\n      <td>13.122367</td>\n    </tr>\n    <tr>\n      <th>3</th>\n      <td>12.532498</td>\n      <td>12.714699</td>\n      <td>12.295003</td>\n    </tr>\n    <tr>\n      <th>4</th>\n      <td>12.940844</td>\n      <td>13.122367</td>\n      <td>12.535380</td>\n    </tr>\n  </tbody>\n</table>\n</div>"
          },
          "metadata": {}
        }
      ],
      "execution_count": 36,
      "metadata": {
        "jupyter": {
          "source_hidden": false,
          "outputs_hidden": false
        },
        "nteract": {
          "transient": {
            "deleting": false
          }
        },
        "gather": {
          "logged": 1664069982064
        }
      },
      "id": "9c952e21-0908-4fbc-869a-2024546ac4f7"
    },
    {
      "cell_type": "code",
      "source": [
        "def train_predict_ridge(x_train_df, x_val_df, y_train_df, alpha):\n",
        "    x_train_dict = x_train_df.to_dict(orient='records')\n",
        "    dv = DictVectorizer(sparse=False)\n",
        "    X_train = dv.fit_transform(x_train_dict)\n",
        "    model = Ridge(alpha=alpha, solver=\"sag\", random_state=42)\n",
        "    model.fit(X_train, y_train_df)\n",
        "    \n",
        "    x_val_dict = x_val_df.to_dict(orient='records')\n",
        "    X_val = dv.transform(x_val_dict)\n",
        "\n",
        "    return model.predict(X_val) "
      ],
      "outputs": [],
      "execution_count": 37,
      "metadata": {
        "jupyter": {
          "source_hidden": false,
          "outputs_hidden": false
        },
        "nteract": {
          "transient": {
            "deleting": false
          }
        },
        "gather": {
          "logged": 1664069982564
        }
      },
      "id": "78180eb2-a80d-449f-af64-9b8798a31029"
    },
    {
      "cell_type": "code",
      "source": [
        "def rmse(y, y_pred):\n",
        "    error = y_pred - y\n",
        "    mse = (error ** 2).mean()\n",
        "    return round(np.sqrt(mse),3)"
      ],
      "outputs": [],
      "execution_count": 38,
      "metadata": {
        "gather": {
          "logged": 1664069983015
        }
      },
      "id": "643e58f1"
    },
    {
      "cell_type": "code",
      "source": [
        "for alpha in [0, 0.01, 0.1, 1, 10]:\n",
        "    y_pred = train_predict_ridge(x_train, x_val, y_train_log, alpha)\n",
        "    accuracy =  rmse(y_val_log, y_pred)\n",
        "    print(f'Alpha: {alpha}, RMSE: {accuracy}')"
      ],
      "outputs": [
        {
          "output_type": "stream",
          "name": "stdout",
          "text": "Alpha: 0, RMSE: 0.524\nAlpha: 0.01, RMSE: 0.524\nAlpha: 0.1, RMSE: 0.524\nAlpha: 1, RMSE: 0.524\nAlpha: 10, RMSE: 0.524\n"
        }
      ],
      "execution_count": 39,
      "metadata": {
        "jupyter": {
          "source_hidden": false,
          "outputs_hidden": false
        },
        "nteract": {
          "transient": {
            "deleting": false
          }
        },
        "gather": {
          "logged": 1664069990139
        }
      },
      "id": "96394ab4-1609-4bf1-bfb5-99aa4830c0c8"
    }
  ],
  "metadata": {
    "kernelspec": {
      "name": "python3",
      "language": "python",
      "display_name": "Python 3 (ipykernel)"
    },
    "language_info": {
      "name": "python",
      "version": "3.8.5",
      "mimetype": "text/x-python",
      "codemirror_mode": {
        "name": "ipython",
        "version": 3
      },
      "pygments_lexer": "ipython3",
      "nbconvert_exporter": "python",
      "file_extension": ".py"
    },
    "kernel_info": {
      "name": "python3"
    },
    "nteract": {
      "version": "nteract-front-end@1.0.0"
    }
  },
  "nbformat": 4,
  "nbformat_minor": 5
}